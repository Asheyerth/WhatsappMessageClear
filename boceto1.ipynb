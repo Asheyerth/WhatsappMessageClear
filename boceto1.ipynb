{
 "cells": [
  {
   "cell_type": "markdown",
   "metadata": {},
   "source": [
    "# Idea inicial"
   ]
  },
  {
   "cell_type": "markdown",
   "metadata": {},
   "source": [
    "## Nativo"
   ]
  },
  {
   "cell_type": "code",
   "execution_count": 125,
   "metadata": {},
   "outputs": [],
   "source": [
    "txt = \"[10:13 p.m., 23/1/2025] Rouge: es que es un random de Threads\""
   ]
  },
  {
   "cell_type": "code",
   "execution_count": 2,
   "metadata": {},
   "outputs": [
    {
     "name": "stdout",
     "output_type": "stream",
     "text": [
      "es que es un random de Threads\n"
     ]
    }
   ],
   "source": [
    "#Busca el lugar donde cierra el corchete, para saber que dejó de ser información de fecha. Luego busca los siguientes dos puntos. \n",
    "#Esto tiene posibilidad de error pequeño. \n",
    "msg = txt[(txt.find(':',txt.find(']')+1)+2):]\n",
    "print(msg)"
   ]
  },
  {
   "cell_type": "markdown",
   "metadata": {},
   "source": [
    "## Distintas lineas"
   ]
  },
  {
   "cell_type": "code",
   "execution_count": 127,
   "metadata": {},
   "outputs": [
    {
     "name": "stdout",
     "output_type": "stream",
     "text": [
      "[2:49 a.m., 19/2/2025] Rouge: asdasdasdadasd\n",
      "[2:50 a.m., 19/2/2025] Rouge: mensaje de prueba\n"
     ]
    }
   ],
   "source": [
    "txt = '[2:49 a.m., 19/2/2025] Rouge: asdasdasdadasd\\n[2:50 a.m., 19/2/2025] Rouge: mensaje de prueba'\n",
    "print(txt)"
   ]
  },
  {
   "cell_type": "code",
   "execution_count": 83,
   "metadata": {},
   "outputs": [
    {
     "name": "stdout",
     "output_type": "stream",
     "text": [
      "[1:37 p.m., 18/2/2025] Rouge: Aceite 3 en 1 en la llave del contador para que no se ponga dura\n",
      "[1:38 p.m., 18/2/2025] Rouge: y cerrar al salir\n"
     ]
    }
   ],
   "source": [
    "txt = '[1:37 p.m., 18/2/2025] Rouge: Aceite 3 en 1 en la llave del contador para que no se ponga dura\\n[1:38 p.m., 18/2/2025] Rouge: y cerrar al salir'\n",
    "print(txt)"
   ]
  },
  {
   "cell_type": "code",
   "execution_count": 129,
   "metadata": {},
   "outputs": [
    {
     "name": "stdout",
     "output_type": "stream",
     "text": [
      "[2:33 a.m., 19/2/2025] Rouge: Acabo de darme cuenta de que es responsive\n",
      "[2:49 a.m., 19/2/2025] Rouge: asdasdasdadasd\n",
      "[2:49 a.m., 19/2/2025] Rouge: mensaje de prueba\n",
      "[3:40 a.m., 19/2/2025] Rouge: Más mensajes de pruebas\n",
      "[3:40 a.m., 19/2/2025] Rouge: Un quinto mensaje\n",
      "[3:43 a.m., 19/2/2025] Rouge: De nada sirve si no pruebo con mensajes multilineas\n",
      "Si de por si es para eso /.-\n"
     ]
    }
   ],
   "source": [
    "txt = '[2:33 a.m., 19/2/2025] Rouge: Acabo de darme cuenta de que es responsive\\n[2:49 a.m., 19/2/2025] Rouge: asdasdasdadasd\\n[2:49 a.m., 19/2/2025] Rouge: mensaje de prueba\\n[3:40 a.m., 19/2/2025] Rouge: Más mensajes de pruebas\\n[3:40 a.m., 19/2/2025] Rouge: Un quinto mensaje\\n[3:43 a.m., 19/2/2025] Rouge: De nada sirve si no pruebo con mensajes multilineas\\nSi de por si es para eso /.-'\n",
    "print(txt)"
   ]
  },
  {
   "cell_type": "code",
   "execution_count": 137,
   "metadata": {},
   "outputs": [
    {
     "name": "stdout",
     "output_type": "stream",
     "text": [
      "6\n",
      "['2:33 a.m., 19/2/2025] ', '2:49 a.m., 19/2/2025] ', '2:49 a.m., 19/2/2025] ', '3:40 a.m., 19/2/2025] ', '3:40 a.m., 19/2/2025] ', '3:43 a.m., 19/2/2025] ']\n",
      "<re.Match object; span=(52, 74), match='2:49 a.m., 19/2/2025] '>\n"
     ]
    }
   ],
   "source": [
    "import re\n",
    "#p = re.compile('\\\\[[0-9]+')\n",
    "#[0-9]+ Números de 0-9 en una o más repeticiones\n",
    "#[ \\t\\n\\r\\f] Espacio en blanco\n",
    "#[a-zA-Z_] Cualquier letra\n",
    "#\\\\ Para validar los caracteres literales de [ y ]\n",
    "#El resto son caracteres plenos -> :.,/\n",
    "p = re.compile('[0-9]+:[0-9]+[ \\t\\n\\r\\f][a-zA-Z_].[a-zA-Z_].,[ \\t\\n\\r\\f][0-9]+/[0-9]+/[0-9]+\\\\][ \\t\\n\\r\\f]')\n",
    "\n",
    "#txt = '[2:49 a.m., 19/2/2025] Rouge: asdasdasdadasd'\n",
    "#Match valida el principio de la cadena y eso no nos sirve enteramente en multilinea\n",
    "ms = p.findall(txt)\n",
    "print(len(ms))\n",
    "print(ms)\n",
    "m = p.search(txt[22:])\n",
    "print(m)"
   ]
  },
  {
   "cell_type": "code",
   "execution_count": 97,
   "metadata": {},
   "outputs": [
    {
     "data": {
      "text/plain": [
       "(73, 95)"
      ]
     },
     "execution_count": 97,
     "metadata": {},
     "output_type": "execute_result"
    }
   ],
   "source": [
    "m.start(), m.end()"
   ]
  },
  {
   "cell_type": "code",
   "execution_count": 102,
   "metadata": {},
   "outputs": [
    {
     "data": {
      "text/plain": [
       "' Rouge: y cerrar al salir'"
      ]
     },
     "execution_count": 102,
     "metadata": {},
     "output_type": "execute_result"
    }
   ],
   "source": [
    "txt[22:][95:]"
   ]
  },
  {
   "cell_type": "code",
   "execution_count": 66,
   "metadata": {},
   "outputs": [
    {
     "data": {
      "text/plain": [
       "['12', '11', '10']"
      ]
     },
     "execution_count": 66,
     "metadata": {},
     "output_type": "execute_result"
    }
   ],
   "source": [
    "p = re.compile(r'\\d+')\n",
    "p.findall('12 drummers drumming, 11 pipers piping, 10 lords a-leaping')"
   ]
  },
  {
   "cell_type": "code",
   "execution_count": 113,
   "metadata": {},
   "outputs": [
    {
     "name": "stdout",
     "output_type": "stream",
     "text": [
      "[2:49 a.m., 19/2/2025] Rouge: asdasdasdadasd\n",
      "[2:50 a.m., 19/2/2025] Rouge: mensaje de prueba\n"
     ]
    }
   ],
   "source": [
    "print(txt)"
   ]
  },
  {
   "cell_type": "code",
   "execution_count": 138,
   "metadata": {},
   "outputs": [
    {
     "name": "stdout",
     "output_type": "stream",
     "text": [
      "[2:33 a.m., 19/2/2025] Rouge: Acabo de darme cuenta de que es responsive\n",
      "2:49 a.m., 19/2/2025] Rouge: asdasdasdadasd\n",
      "2:49 a.m., 19/2/2025] Rouge: mensaje de prueba\n",
      "3:40 a.m., 19/2/2025] Rouge: Más mensajes de pruebas\n",
      "3:40 a.m., 19/2/2025] Rouge: Un quinto mensaje\n",
      "3:43 a.m., 19/2/2025] Rouge: De nada sirve si no pruebo con mensajes multilineas\n",
      "Si de por si es para eso /.-\n"
     ]
    },
    {
     "data": {
      "text/plain": [
       "6"
      ]
     },
     "execution_count": 138,
     "metadata": {},
     "output_type": "execute_result"
    }
   ],
   "source": [
    "#Método? \n",
    "#División por lineas\n",
    "txts = txt.split('\\n[',len(ms))\n",
    "for x in txts: print(x)\n",
    "len(txts)"
   ]
  },
  {
   "cell_type": "code",
   "execution_count": 145,
   "metadata": {},
   "outputs": [
    {
     "name": "stdout",
     "output_type": "stream",
     "text": [
      "Rouge: Acabo de darme cuenta de que es responsive\n",
      "Rouge: asdasdasdadasd\n",
      "Rouge: mensaje de prueba\n",
      "Rouge: Más mensajes de pruebas\n",
      "Rouge: Un quinto mensaje\n",
      "Rouge: De nada sirve si no pruebo con mensajes multilineas\n",
      "Si de por si es para eso /.-\n"
     ]
    }
   ],
   "source": [
    "for x in txts:\n",
    "    smsg = p.search(x)\n",
    "    print(x[smsg.end():])"
   ]
  },
  {
   "cell_type": "markdown",
   "metadata": {},
   "source": [
    "# Experimentos"
   ]
  },
  {
   "cell_type": "code",
   "execution_count": 147,
   "metadata": {},
   "outputs": [
    {
     "name": "stdout",
     "output_type": "stream",
     "text": [
      "Rouge: Acabo de darme cuenta de que es responsive\n",
      "Rouge: asdasdasdadasd\n",
      "Rouge: mensaje de prueba\n",
      "Rouge: Más mensajes de pruebas\n",
      "Rouge: Un quinto mensaje\n",
      "Rouge: De nada sirve si no pruebo con mensajes multilineas\n",
      "Si de por si es para eso /.-\n"
     ]
    },
    {
     "data": {
      "text/plain": [
       "['Rouge: Acabo de darme cuenta de que es responsive',\n",
       " 'Rouge: asdasdasdadasd',\n",
       " 'Rouge: mensaje de prueba',\n",
       " 'Rouge: Más mensajes de pruebas',\n",
       " 'Rouge: Un quinto mensaje',\n",
       " 'Rouge: De nada sirve si no pruebo con mensajes multilineas\\nSi de por si es para eso /.-']"
      ]
     },
     "execution_count": 147,
     "metadata": {},
     "output_type": "execute_result"
    }
   ],
   "source": [
    "lista = []\n",
    "for x in txts:\n",
    "    smsg = p.search(x)\n",
    "    print(x[smsg.end():])\n",
    "    lista.append(x[smsg.end():])\n",
    "lista"
   ]
  },
  {
   "cell_type": "code",
   "execution_count": 150,
   "metadata": {},
   "outputs": [
    {
     "data": {
      "text/plain": [
       "'Rouge: Acabo de darme cuenta de que es responsive'"
      ]
     },
     "execution_count": 150,
     "metadata": {},
     "output_type": "execute_result"
    }
   ],
   "source": [
    "texto = lista[0]\n",
    "texto"
   ]
  },
  {
   "cell_type": "code",
   "execution_count": 160,
   "metadata": {},
   "outputs": [
    {
     "data": {
      "text/plain": [
       "': Acabo de darme cuenta de que es responsive'"
      ]
     },
     "execution_count": 160,
     "metadata": {},
     "output_type": "execute_result"
    }
   ],
   "source": [
    "user = 'Rouge'\n",
    "texto.removeprefix(user)"
   ]
  },
  {
   "cell_type": "code",
   "execution_count": 153,
   "metadata": {},
   "outputs": [
    {
     "data": {
      "text/plain": [
       "'Acabo de darme cuenta de que es responsive'"
      ]
     },
     "execution_count": 153,
     "metadata": {},
     "output_type": "execute_result"
    }
   ],
   "source": [
    "texto.find(':')\n",
    "texto[texto.find(':')+2:]"
   ]
  }
 ],
 "metadata": {
  "kernelspec": {
   "display_name": "Python 3",
   "language": "python",
   "name": "python3"
  },
  "language_info": {
   "codemirror_mode": {
    "name": "ipython",
    "version": 3
   },
   "file_extension": ".py",
   "mimetype": "text/x-python",
   "name": "python",
   "nbconvert_exporter": "python",
   "pygments_lexer": "ipython3",
   "version": "3.12.4"
  }
 },
 "nbformat": 4,
 "nbformat_minor": 2
}
